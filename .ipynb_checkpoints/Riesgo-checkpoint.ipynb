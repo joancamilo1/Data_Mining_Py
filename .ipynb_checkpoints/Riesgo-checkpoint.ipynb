{
 "cells": [
  {
   "cell_type": "code",
   "execution_count": 14,
   "id": "afb44fe8-d8ad-41d9-950f-7cd28f0de8bc",
   "metadata": {},
   "outputs": [
    {
     "name": "stdout",
     "output_type": "stream",
     "text": [
      "15.0 %\n"
     ]
    }
   ],
   "source": [
    "import re\n",
    "#debe estar en minuscula en texto\n",
    "with open('2.pdfm.txt', 'r', encoding=\"utf8\") as f:\n",
    "    lineas = [linea.split() for linea in f]\n",
    "\n",
    "lineas_unidas = []\n",
    "for i in range(len(lineas)):\n",
    "    lineas_unidas += lineas[i]\n",
    "\n",
    "#Establecer las variantes o formas de escribir riesgo    \n",
    "myDict = {'riesgo':1, 'reisg':1,'risk':1,'reisgo':1,'riak':1,'reisg':1}    \n",
    "\n",
    "#Determinar posición de las palabras riesgo o similares\n",
    "posiciones_riesgo = [index for index, word in enumerate(lineas_unidas) if word in myDict]\n",
    "#Determinar cuales o cuales con las siguiente palabras despues de las palabras riesgo \n",
    "posicion_cardio = [lineas_unidas[i] for i in list(map(lambda x: x+1, posiciones_riesgo))]\n",
    "\n",
    "#\"vecinos superiores (4 palabras)\" de la palabra cardiovascular que precede a la palabra riesgo o similar.\n",
    "neighborhood1 = lineas_unidas[\n",
    "    posiciones_riesgo[(posicion_cardio.index(\"cardiovascular\"))]:\n",
    "    posiciones_riesgo[(posicion_cardio.index(\"cardiovascular\"))]+4]\n",
    "\n",
    "#Encontrar el número\n",
    "srt_num_porcentaje = \" \".join(neighborhood1)\n",
    "porcentaje = [float(s) for s in re.findall(r'-?\\d+\\.?\\d*',srt_num_porcentaje)]\n",
    "print(porcentaje[0],\"%\" )"
   ]
  },
  {
   "cell_type": "code",
   "execution_count": null,
   "id": "f67c71e6-650f-4f2d-b81c-e410010e18c0",
   "metadata": {},
   "outputs": [],
   "source": []
  },
  {
   "cell_type": "code",
   "execution_count": null,
   "id": "0cf0badd-eba1-467a-88cd-69bb4a4ed50f",
   "metadata": {},
   "outputs": [],
   "source": []
  }
 ],
 "metadata": {
  "kernelspec": {
   "display_name": "Python 3 (ipykernel)",
   "language": "python",
   "name": "python3"
  },
  "language_info": {
   "codemirror_mode": {
    "name": "ipython",
    "version": 3
   },
   "file_extension": ".py",
   "mimetype": "text/x-python",
   "name": "python",
   "nbconvert_exporter": "python",
   "pygments_lexer": "ipython3",
   "version": "3.9.7"
  },
  "widgets": {
   "application/vnd.jupyter.widget-state+json": {
    "state": {},
    "version_major": 2,
    "version_minor": 0
   }
  }
 },
 "nbformat": 4,
 "nbformat_minor": 5
}
