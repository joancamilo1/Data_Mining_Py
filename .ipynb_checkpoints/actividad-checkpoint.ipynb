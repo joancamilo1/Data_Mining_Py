{
 "cells": [
  {
   "cell_type": "code",
   "execution_count": 1,
   "id": "006b36f9",
   "metadata": {},
   "outputs": [
    {
     "name": "stdout",
     "output_type": "stream",
     "text": [
      "Collecting PyMuPDF\n",
      "  Downloading PyMuPDF-1.19.6-cp39-cp39-win_amd64.whl (6.4 MB)\n",
      "Installing collected packages: PyMuPDF\n",
      "Successfully installed PyMuPDF-1.19.6\n",
      "Note: you may need to restart the kernel to use updated packages.\n"
     ]
    }
   ],
   "source": [
    "pip install PyMuPDF"
   ]
  },
  {
   "cell_type": "code",
   "execution_count": 2,
   "id": "39425b83",
   "metadata": {},
   "outputs": [],
   "source": [
    "import fitz\n",
    "import re"
   ]
  },
  {
   "cell_type": "code",
   "execution_count": 3,
   "id": "79a01e0c",
   "metadata": {},
   "outputs": [],
   "source": [
    "pdf = \"2.pdf\"\n",
    "doc = fitz.open(pdf)"
   ]
  },
  {
   "cell_type": "code",
   "execution_count": 4,
   "id": "4fb86505",
   "metadata": {},
   "outputs": [
    {
     "name": "stdout",
     "output_type": "stream",
     "text": [
      "paginas:  1\n"
     ]
    }
   ],
   "source": [
    "print(\"paginas: \", doc.pageCount)"
   ]
  },
  {
   "cell_type": "code",
   "execution_count": 129,
   "id": "d401b38d",
   "metadata": {},
   "outputs": [
    {
     "data": {
      "text/plain": [
       "'2. tasa de filtración glomerular (tfg): 34.0 - observación: disminución moderada del filtrado glomerular. insuficiencia renal por ckd epi \\nfecha de realización: 26/07/2019 00:00:00 \\n1. glicemia basal (mg/dl): 104.0. \\nanálisis y plan de atención \\npaciente con antecednet de tumor renal en seguimiento por especialistas en bogota queines siolcitiador \\nrnm de \\nabdomen pero aun no ha sido posible se encuentr a normotenso con pesima adhrencia a al diet a ejercicio \\nobeso con \\naumento depeso casi en dos kg y en en cifras de triglcieriedos y niveles de glucosa en prediabess se \\nestadio renal 3b \\ncon tfg en 39.1 por ckcepi con descenso con respeicto a estaddio posterior pues tenia tfg en 42.7 reisgo \\ncardiovascular 15% por framingham se insite en que debe dejar alimentos nefrotoxicos. control en tres \\nmeses. se da \\norden para valoracion por nefrologia y orientacion nutricionales por enfermeria contro con nueva \\ncreatinina \\ndiagnóstico \\ndiagnostico \\ndiagnóstico principal: hipertension esencial (primaria) (i10x), confirmado repetido, causa externa:otra . \\ndiagnóstico asociado 1: hiperlipidemia no especificada (e785), confirmado repetido. \\ndiagnóstico asociado 2: insuficiencia renal cronica, no especificada (n189), confirmado repetido. \\ndiagnóstico asociado 3: obesidad, no especificada (e669), confirmado repetido. \\ndiagnóstico asociado 4: trastorno del metabolismo de los carbohidratos, no especificado (e749), confirmado repetido. \\ndiagnóstico asociado 5: tumor maligno del riñon, excepto de la pelvis renal (c64x), izquierdo (a), confirmado repetido. \\nplan de manejo - formulacion de medicamentos \\nfórmula médica - uso continuo \\n1. hidroclorotiazida tab 25mg: tomar (vía oral) 1 tableta cada 1 día(s) por 90 día(s). cantidad total: 90, número de entregas: 3, vigencia del \\ntratamiento: \\n16/03/2020- 14/06/2020, \\n2. losartan 50 mg tab: tomar (vía oral) 1 tableta cada 12 hora(s) por 90 día(s). cantidad total: 180, número de entregas: 3, vigencia del \\ntratamiento: \\n16/03/2020- 14/06/2020, \\nplan de manejo - ordenes de procedimientos \\nordenes de procedimientos \\n1. se solicita creatinina en suero u otros fluidos, no. 1, paciente con antecednet de tumor renal en \\nseguimiento por \\nespecialistas en bogota queines siolcitiador rnm de abdomen pero aun no ha sido posible se encuentr a \\nnormotenso \\ncon pesima adhrencia a al diet a ejercicio obeso con aumento depeso casi en dos kg y en en cifras de \\ntriglcieriedos y \\nniveles de glucosa en prediabess se estadio renal 3b con tfg en 39.1 por ckcepi con descenso con respeicto \\na estaddio \\nposterior pues tenia tfg en 42.7 reisgo cardiovascular 15% por framingham se insite en que debe dejar \\nalimentos \\nnefrotoxicos. control en tres meses. se da orden para valoracion por nefrologia y orientacion \\nnutricionales por \\nenfermeria contro con nueva creatinina \\ndiagnóstico. \\nplan de manejo - referencia - interconsulta - remisión \\ninterconsulta \\n1. se solicita interconsulta a nefrologia por solicitud del médico tratante. justificación: paciente de 71 años con antecednte de \\ntumor renal \\nizquierdo en contorl con urologia en quein se aprecia deterioro marcado de funcion renal desde tfg en 42. \\nhasta 39.1 \\ncon ultima creatinina en 1.7 ss valoracion . observaciones: paciente de 71 años con antecednte de tumor renal \\nizquierdo \\n'"
      ]
     },
     "execution_count": 129,
     "metadata": {},
     "output_type": "execute_result"
    }
   ],
   "source": [
    "pag = doc.loadPage(0)\n",
    "txt = pag.getText(\"text\").lower()\n",
    "txt"
   ]
  },
  {
   "cell_type": "code",
   "execution_count": 7,
   "id": "7babe939",
   "metadata": {},
   "outputs": [
    {
     "data": {
      "text/plain": [
       "str"
      ]
     },
     "execution_count": 7,
     "metadata": {},
     "output_type": "execute_result"
    }
   ],
   "source": [
    "type(txt)"
   ]
  },
  {
   "cell_type": "code",
   "execution_count": 10,
   "id": "d25e2a0f",
   "metadata": {},
   "outputs": [],
   "source": [
    "#guardar txt\n",
    "text_file = open(\"doc.txt\", \"w\")\n",
    "text_file.write(txt)\n",
    "text_file.close()"
   ]
  },
  {
   "cell_type": "code",
   "execution_count": 292,
   "id": "7a5d5116",
   "metadata": {},
   "outputs": [],
   "source": [
    "s1 = []\n",
    "s2 = []\n",
    "s3 = []\n",
    "s4 = []\n",
    "s5 = []"
   ]
  },
  {
   "cell_type": "code",
   "execution_count": 315,
   "id": "7464c28c",
   "metadata": {},
   "outputs": [],
   "source": [
    "salida = []\n",
    "with open('doc.txt', 'r') as f:\n",
    "    lineas = [linea.split() for linea in f]\n",
    "\n",
    "# Guardando en una lista el documento\n",
    "lineas_unidas = []\n",
    "for i in range(len(lineas)):\n",
    "    lineas_unidas += lineas[i]"
   ]
  },
  {
   "cell_type": "code",
   "execution_count": 264,
   "id": "50e9809f",
   "metadata": {},
   "outputs": [],
   "source": [
    "def finder(x):\n",
    "    \n",
    "    for i in range(len(lineas)):\n",
    "        try:\n",
    "            return i,lineas[i].index(x)\n",
    "        except ValueError:\n",
    "            pass     "
   ]
  },
  {
   "cell_type": "code",
   "execution_count": 313,
   "id": "8909d725",
   "metadata": {},
   "outputs": [
    {
     "ename": "IndexError",
     "evalue": "list index out of range",
     "output_type": "error",
     "traceback": [
      "\u001b[1;31m---------------------------------------------------------------------------\u001b[0m",
      "\u001b[1;31mIndexError\u001b[0m                                Traceback (most recent call last)",
      "\u001b[1;32mC:\\Users\\JOANCA~1\\AppData\\Local\\Temp/ipykernel_14872/2397423556.py\u001b[0m in \u001b[0;36m<module>\u001b[1;34m\u001b[0m\n\u001b[0;32m     12\u001b[0m \u001b[1;33m\u001b[0m\u001b[0m\n\u001b[0;32m     13\u001b[0m \u001b[1;31m#Establecer \"radio de alcance \" (4 espacios) donde se encuentre el valor numérico del riesgo cardivascular\u001b[0m\u001b[1;33m\u001b[0m\u001b[1;33m\u001b[0m\u001b[0m\n\u001b[1;32m---> 14\u001b[1;33m \u001b[0mneighborhood_4\u001b[0m \u001b[1;33m=\u001b[0m \u001b[0mlineas_unidas\u001b[0m\u001b[1;33m[\u001b[0m\u001b[0mfinder_excep\u001b[0m\u001b[1;33m(\u001b[0m\u001b[1;33m)\u001b[0m\u001b[1;33m:\u001b[0m\u001b[0mfinder_excep\u001b[0m\u001b[1;33m(\u001b[0m\u001b[1;33m)\u001b[0m\u001b[1;33m+\u001b[0m\u001b[1;36m4\u001b[0m\u001b[1;33m]\u001b[0m\u001b[1;33m\u001b[0m\u001b[1;33m\u001b[0m\u001b[0m\n\u001b[0m\u001b[0;32m     15\u001b[0m \u001b[1;33m\u001b[0m\u001b[0m\n\u001b[0;32m     16\u001b[0m \u001b[1;31m#Encontrar el número\u001b[0m\u001b[1;33m\u001b[0m\u001b[1;33m\u001b[0m\u001b[0m\n",
      "\u001b[1;32mC:\\Users\\JOANCA~1\\AppData\\Local\\Temp/ipykernel_14872/2397423556.py\u001b[0m in \u001b[0;36mfinder_excep\u001b[1;34m()\u001b[0m\n\u001b[0;32m      2\u001b[0m \u001b[1;33m\u001b[0m\u001b[0m\n\u001b[0;32m      3\u001b[0m     \u001b[0mexcep\u001b[0m \u001b[1;33m=\u001b[0m \u001b[1;33m{\u001b[0m\u001b[1;34m'riesgo'\u001b[0m\u001b[1;33m:\u001b[0m\u001b[1;36m1\u001b[0m\u001b[1;33m,\u001b[0m \u001b[1;34m'reisg'\u001b[0m\u001b[1;33m:\u001b[0m\u001b[1;36m1\u001b[0m\u001b[1;33m,\u001b[0m\u001b[1;34m'risk'\u001b[0m\u001b[1;33m:\u001b[0m\u001b[1;36m1\u001b[0m\u001b[1;33m,\u001b[0m\u001b[1;34m'reisgo'\u001b[0m\u001b[1;33m:\u001b[0m\u001b[1;36m1\u001b[0m\u001b[1;33m,\u001b[0m\u001b[1;34m'riak'\u001b[0m\u001b[1;33m:\u001b[0m\u001b[1;36m1\u001b[0m\u001b[1;33m,\u001b[0m\u001b[1;34m'reisg'\u001b[0m\u001b[1;33m:\u001b[0m\u001b[1;36m1\u001b[0m\u001b[1;33m}\u001b[0m\u001b[1;33m\u001b[0m\u001b[1;33m\u001b[0m\u001b[0m\n\u001b[1;32m----> 4\u001b[1;33m     if [index for index, word in enumerate(lineas_unidas) \n\u001b[0m\u001b[0;32m      5\u001b[0m \u001b[1;33m\u001b[0m\u001b[0m\n\u001b[0;32m      6\u001b[0m         if word in excep][0] == (lineas_unidas.index('CARDIOVASCULAR')-1):\n",
      "\u001b[1;31mIndexError\u001b[0m: list index out of range"
     ]
    }
   ],
   "source": [
    "def finder_excep():\n",
    "    \n",
    "    excep = {'riesgo':1, 'reisg':1,'risk':1,'reisgo':1,'riak':1,'reisg':1}\n",
    "    if [index for index, word in enumerate(lineas_unidas) \n",
    "        \n",
    "        if word in excep][0] == (lineas_unidas.index('CARDIOVASCULAR')-1):\n",
    "        \n",
    "        return lineas_unidas.index('CARDIOVASCULAR')\n",
    "    else:\n",
    "        None\n",
    "\n",
    "        \n",
    "#Establecer \"radio de alcance \" (4 espacios) donde se encuentre el valor numérico del riesgo cardivascular\n",
    "neighborhood_4 = lineas_unidas[finder_excep():finder_excep()+4]   \n",
    "\n",
    "#Encontrar el número\n",
    "srt_num_porcentaje = \" \".join(neighborhood1 )\n",
    "porcentaje = [float(s) for s in re.findall(r'-?\\d+\\.?\\d*',srt_num_porcentaje)]\n",
    "print(porcentaje[0],\"%\" )"
   ]
  },
  {
   "cell_type": "code",
   "execution_count": 322,
   "id": "a0dd87ec",
   "metadata": {},
   "outputs": [
    {
     "name": "stdout",
     "output_type": "stream",
     "text": [
      "[34.0]\n",
      "['POR CKD EPI']\n",
      "['15%']\n",
      "['CARDIOVASCULAR ', 'POR FRAMINGHAM']\n"
     ]
    }
   ],
   "source": [
    "neighborhood_1 = lineas[finder('glomerular')[0]][finder('glomerular')[1]:finder('glomerular')[1]+4] \n",
    "neighborhood_2 = lineas[finder('renal')[0]][finder('renal')[1]:finder('renal')[1]+4]   \n",
    "#neighborhood_3 = lineas[finder('')[0]][finder('')[1]:finder('')[1]+4] \n",
    "neighborhood_4 = lineas[finder('CARDIOVASCULAR')[0]][finder('CARDIOVASCULAR')[1]:finder('CARDIOVASCULAR')[1]+4]   \n",
    "neighborhood_5 = lineas[finder('CARDIOVASCULAR')[0]][finder('CARDIOVASCULAR')[1]:finder('CARDIOVASCULAR')[1]+4]   \n",
    "\n",
    "#Encontrar el número\n",
    "frase_1 = \" \".join(neighborhood_1)\n",
    "frase_2 = \" \".join(neighborhood_2)\n",
    "#frase_3 = \" \".join(neighborhood_3)\n",
    "frase_4 = \" \".join(neighborhood_4)\n",
    "frase_5 = \" \".join(neighborhood_5)\n",
    "\n",
    "s1 = [float(s) for s in re.findall(r'-?\\d+\\.?\\d*',frase_1)]\n",
    "s2 = [s2 for s2 in re.findall(r'[A-Z][ ^A-Z]*',frase_2)]\n",
    "#s3 = [float(s) for s in re.findall(r'-?\\d+\\.?\\d*',frase_3)]\n",
    "s4 = [s for s in re.findall(r'-?\\d+\\%*',frase_4)]\n",
    "s5 = [s for s in re.findall(r'[A-Z][ ^A-Z]*',frase_5)]\n",
    "\n",
    "\n",
    "print(s1)\n",
    "print(s2)\n",
    "print(s4)\n",
    "print(s5)"
   ]
  },
  {
   "cell_type": "code",
   "execution_count": 307,
   "id": "f879539c",
   "metadata": {},
   "outputs": [
    {
     "ename": "IndexError",
     "evalue": "list index out of range",
     "output_type": "error",
     "traceback": [
      "\u001b[1;31m---------------------------------------------------------------------------\u001b[0m",
      "\u001b[1;31mIndexError\u001b[0m                                Traceback (most recent call last)",
      "\u001b[1;32mC:\\Users\\JOANCA~1\\AppData\\Local\\Temp/ipykernel_14872/201469599.py\u001b[0m in \u001b[0;36m<module>\u001b[1;34m\u001b[0m\n\u001b[0;32m     16\u001b[0m \u001b[1;33m\u001b[0m\u001b[0m\n\u001b[0;32m     17\u001b[0m \u001b[1;31m#Establecer \"radio de alcance \" (4 espacios) donde se encuentre el valor numérico del riesgo cardivascular\u001b[0m\u001b[1;33m\u001b[0m\u001b[1;33m\u001b[0m\u001b[0m\n\u001b[1;32m---> 18\u001b[1;33m \u001b[0mneighborhood\u001b[0m \u001b[1;33m=\u001b[0m \u001b[0mlineas_unidas\u001b[0m\u001b[1;33m[\u001b[0m\u001b[0mfinder_CARDIO\u001b[0m\u001b[1;33m(\u001b[0m\u001b[1;33m)\u001b[0m\u001b[1;33m:\u001b[0m\u001b[0mfinder_CARDIO\u001b[0m\u001b[1;33m(\u001b[0m\u001b[1;33m)\u001b[0m\u001b[1;33m+\u001b[0m\u001b[1;36m4\u001b[0m\u001b[1;33m]\u001b[0m\u001b[1;33m\u001b[0m\u001b[1;33m\u001b[0m\u001b[0m\n\u001b[0m\u001b[0;32m     19\u001b[0m \u001b[1;33m\u001b[0m\u001b[0m\n\u001b[0;32m     20\u001b[0m \u001b[1;31m#Encontrar el número\u001b[0m\u001b[1;33m\u001b[0m\u001b[1;33m\u001b[0m\u001b[0m\n",
      "\u001b[1;32mC:\\Users\\JOANCA~1\\AppData\\Local\\Temp/ipykernel_14872/201469599.py\u001b[0m in \u001b[0;36mfinder_CARDIO\u001b[1;34m()\u001b[0m\n\u001b[0;32m      8\u001b[0m \u001b[1;33m\u001b[0m\u001b[0m\n\u001b[0;32m      9\u001b[0m     \u001b[0mmyDict\u001b[0m \u001b[1;33m=\u001b[0m \u001b[1;33m{\u001b[0m\u001b[1;34m'riesgo'\u001b[0m\u001b[1;33m:\u001b[0m\u001b[1;36m1\u001b[0m\u001b[1;33m,\u001b[0m \u001b[1;34m'reisg'\u001b[0m\u001b[1;33m:\u001b[0m\u001b[1;36m1\u001b[0m\u001b[1;33m,\u001b[0m\u001b[1;34m'risk'\u001b[0m\u001b[1;33m:\u001b[0m\u001b[1;36m1\u001b[0m\u001b[1;33m,\u001b[0m\u001b[1;34m'reisgo'\u001b[0m\u001b[1;33m:\u001b[0m\u001b[1;36m1\u001b[0m\u001b[1;33m,\u001b[0m\u001b[1;34m'riak'\u001b[0m\u001b[1;33m:\u001b[0m\u001b[1;36m1\u001b[0m\u001b[1;33m}\u001b[0m\u001b[1;33m\u001b[0m\u001b[1;33m\u001b[0m\u001b[0m\n\u001b[1;32m---> 10\u001b[1;33m     \u001b[1;32mif\u001b[0m \u001b[1;33m[\u001b[0m\u001b[0mindex\u001b[0m \u001b[1;32mfor\u001b[0m \u001b[0mindex\u001b[0m\u001b[1;33m,\u001b[0m \u001b[0mword\u001b[0m \u001b[1;32min\u001b[0m \u001b[0menumerate\u001b[0m\u001b[1;33m(\u001b[0m\u001b[0mlineas_unidas\u001b[0m\u001b[1;33m)\u001b[0m \u001b[1;32mif\u001b[0m \u001b[0mword\u001b[0m \u001b[1;32min\u001b[0m \u001b[0mmyDict\u001b[0m\u001b[1;33m]\u001b[0m\u001b[1;33m[\u001b[0m\u001b[1;36m0\u001b[0m\u001b[1;33m]\u001b[0m \u001b[1;33m==\u001b[0m \u001b[1;33m(\u001b[0m\u001b[0mlineas_unidas\u001b[0m\u001b[1;33m.\u001b[0m\u001b[0mindex\u001b[0m\u001b[1;33m(\u001b[0m\u001b[1;34m\"CARDIOVASCULAR\"\u001b[0m\u001b[1;33m)\u001b[0m\u001b[1;33m-\u001b[0m\u001b[1;36m1\u001b[0m\u001b[1;33m)\u001b[0m\u001b[1;33m:\u001b[0m\u001b[1;33m\u001b[0m\u001b[1;33m\u001b[0m\u001b[0m\n\u001b[0m\u001b[0;32m     11\u001b[0m \u001b[1;33m\u001b[0m\u001b[0m\n\u001b[0;32m     12\u001b[0m         \u001b[1;32mreturn\u001b[0m \u001b[0mlineas_unidas\u001b[0m\u001b[1;33m.\u001b[0m\u001b[0mindex\u001b[0m\u001b[1;33m(\u001b[0m\u001b[1;34m\"CARDIOVASCULAR\"\u001b[0m\u001b[1;33m)\u001b[0m\u001b[1;33m\u001b[0m\u001b[1;33m\u001b[0m\u001b[0m\n",
      "\u001b[1;31mIndexError\u001b[0m: list index out of range"
     ]
    }
   ],
   "source": [
    "# Guardando en una lista el documento\n",
    "lineas_unidas = []\n",
    "for i in range(len(lineas)):\n",
    "    lineas_unidas += lineas[i]\n",
    "   \n",
    "## Encuentra  la frase Riesgo Cardiovascular con todas las variantes de Riesgo\n",
    "def finder_CARDIO():\n",
    "    \n",
    "    myDict = {'riesgo':1, 'reisg':1,'risk':1,'reisgo':1,'riak':1,'reisg':1}    \n",
    "    if [index for index, word in enumerate(lineas_unidas) if word in myDict][0] == (lineas_unidas.index(\"CARDIOVASCULAR\")-1):\n",
    "    \n",
    "        return lineas_unidas.index(\"CARDIOVASCULAR\")\n",
    "    else:\n",
    "        None\n",
    "   \n",
    "        \n",
    "#Establecer \"radio de alcance \" (4 espacios) donde se encuentre el valor numérico del riesgo cardivascular\n",
    "neighborhood = lineas_unidas[finder_CARDIO():finder_CARDIO()+4]   \n",
    "\n",
    "#Encontrar el número\n",
    "srt_num_porcentaje = \" \".join(neighborhood1 )\n",
    "porcentaje = [float(s) for s in re.findall(r'-?\\d+\\.?\\d*',srt_num_porcentaje)]\n",
    "print(porcentaje[0],\"%\" )"
   ]
  },
  {
   "cell_type": "code",
   "execution_count": 325,
   "id": "e381810b",
   "metadata": {},
   "outputs": [
    {
     "data": {
      "text/plain": [
       "{'Tasa de filtración glomerular': 34.0,\n",
       " 'Insuficiencia renal': 'POR CKD EPI',\n",
       " 'Fecha de identificación de insuficiencia renal': [],\n",
       " 'Riesgo cardiovascular': '15%',\n",
       " 'Método de cálculo': 'POR FRAMINGHAM'}"
      ]
     },
     "execution_count": 325,
     "metadata": {},
     "output_type": "execute_result"
    }
   ],
   "source": [
    "data = {\n",
    "    \"Tasa de filtración glomerular\": s1[0],\n",
    "    \"Insuficiencia renal\": s2[0],\n",
    "    \"Fecha de identificación de insuficiencia renal\":s3,\n",
    "    \"Riesgo cardiovascular\": s4[0], \n",
    "    \"Método de cálculo\":s5[1]\n",
    "}\n",
    "data"
   ]
  }
 ],
 "metadata": {
  "kernelspec": {
   "display_name": "Python 3 (ipykernel)",
   "language": "python",
   "name": "python3"
  },
  "language_info": {
   "codemirror_mode": {
    "name": "ipython",
    "version": 3
   },
   "file_extension": ".py",
   "mimetype": "text/x-python",
   "name": "python",
   "nbconvert_exporter": "python",
   "pygments_lexer": "ipython3",
   "version": "3.9.7"
  }
 },
 "nbformat": 4,
 "nbformat_minor": 5
}
