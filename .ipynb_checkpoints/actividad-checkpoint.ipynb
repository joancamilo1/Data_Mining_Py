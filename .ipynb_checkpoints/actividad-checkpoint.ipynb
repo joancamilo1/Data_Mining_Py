{
 "cells": [
  {
   "cell_type": "code",
   "execution_count": 1,
   "id": "42807698",
   "metadata": {},
   "outputs": [
    {
     "name": "stdout",
     "output_type": "stream",
     "text": [
      "Collecting PyMuPDF\n",
      "  Downloading PyMuPDF-1.19.6-cp39-cp39-win_amd64.whl (6.4 MB)\n",
      "Installing collected packages: PyMuPDF\n",
      "Successfully installed PyMuPDF-1.19.6\n",
      "Note: you may need to restart the kernel to use updated packages.\n"
     ]
    }
   ],
   "source": [
    "pip install PyMuPDF"
   ]
  },
  {
   "cell_type": "code",
   "execution_count": 1,
   "id": "6d91b4fd",
   "metadata": {},
   "outputs": [],
   "source": [
    "import fitz\n",
    "import re\n",
    "import pandas as pd"
   ]
  },
  {
   "cell_type": "code",
   "execution_count": 2,
   "id": "dc55f721",
   "metadata": {},
   "outputs": [
    {
     "name": "stderr",
     "output_type": "stream",
     "text": [
      "Deprecation: 'getText' removed from class 'Page' after v1.19 - use 'get_text'.\n"
     ]
    }
   ],
   "source": [
    "pdf = '2.pdf'\n",
    "doc = fitz.open(pdf)\n",
    "salida = open(\"2\"+\".txt\",\"wb\") \n",
    "for pagina in doc:\n",
    "    texto = pagina.getText().lower().encode(\"utf8\")\n",
    "    salida.write(texto)\n",
    "    salida.write(b\"\\n-----\\n\")\n",
    "\n",
    "salida.close()"
   ]
  },
  {
   "cell_type": "code",
   "execution_count": 3,
   "id": "30a42be2",
   "metadata": {},
   "outputs": [],
   "source": [
    "import re\n",
    "#debe estar en minuscula en texto\n",
    "with open('2.txt', 'r', encoding=\"utf8\") as f:\n",
    "    lineas = [linea.split() for linea in f]\n",
    "\n",
    "lineas_unidas = []\n",
    "for i in range(len(lineas)):\n",
    "    lineas_unidas += lineas[i]\n"
   ]
  },
  {
   "cell_type": "code",
   "execution_count": 4,
   "id": "4f5d63da",
   "metadata": {},
   "outputs": [],
   "source": [
    "s1 = []\n",
    "s2 = []\n",
    "s3 = []\n",
    "s4 = []\n",
    "s5 = []"
   ]
  },
  {
   "cell_type": "code",
   "execution_count": 5,
   "id": "54059fd1",
   "metadata": {},
   "outputs": [],
   "source": [
    "def finder(x):\n",
    "    for i in range(len(lineas)):\n",
    "        try:\n",
    "            return i,lineas[i].index(x)\n",
    "        except ValueError:\n",
    "            pass     "
   ]
  },
  {
   "cell_type": "code",
   "execution_count": 6,
   "id": "24520bcc",
   "metadata": {
    "scrolled": true
   },
   "outputs": [
    {
     "name": "stdout",
     "output_type": "stream",
     "text": [
      "[34.0]\n",
      "['ckd epi']\n",
      "['26/07/2019']\n",
      "['15%']\n",
      "['cardiovascular ', 'por framingham']\n"
     ]
    }
   ],
   "source": [
    "neighborhood_1 = lineas[finder('glomerular')[0]][finder('glomerular')[1]:finder('glomerular')[1]+4] \n",
    "neighborhood_2 = lineas[finder('renal')[0]][finder('renal')[1]:finder('renal')[1]+4] \n",
    "if(neighborhood_2!=[]):neighborhood_3 = lineas[finder('fecha')[0]][finder('fecha')[1]:finder('fecha')[1]+4] \n",
    "\n",
    "\n",
    "# ----- para riesgo ------\n",
    "#Establecer las variantes o formas de escribir riesgo    \n",
    "myDict = {'riesgo':1, 'reisg':1,'risk':1,'reisgo':1,'riak':1,'reisg':1}    \n",
    "\n",
    "#Determinar posición de las palabras riesgo o similares\n",
    "posiciones_riesgo = [index for index, word in enumerate(lineas_unidas) if word in myDict]\n",
    "\n",
    "#Determinar cuales o cuales con las siguiente palabras despues de las palabras riesgo \n",
    "posicion_cardio = [lineas_unidas[i] for i in list(map(lambda x: x+1, posiciones_riesgo))]\n",
    "\n",
    "#\"vecinos superiores (4 palabras)\" de la palabra cardiovascular que precede a la palabra riesgo o similar.\n",
    "neighborhood_4 = lineas_unidas[posiciones_riesgo[(posicion_cardio.index(\"cardiovascular\"))]:\n",
    "                               posiciones_riesgo[(posicion_cardio.index(\"cardiovascular\"))]+4] \n",
    "    \n",
    "\n",
    "neighborhood_5 = lineas[finder('cardiovascular')[0]][finder('cardiovascular')[1]:finder('cardiovascular')[1]+4]   \n",
    "\n",
    "    \n",
    "#Encontrar el número\n",
    "frase_1 = \" \".join(neighborhood_1)\n",
    "frase_2 = \" \".join(neighborhood_2)\n",
    "frase_3 = \" \".join(neighborhood_3)\n",
    "frase_4 = \" \".join(neighborhood_4)\n",
    "frase_5 = \" \".join(neighborhood_5)\n",
    "\n",
    "s1 = [float(s) for s in re.findall(r'-?\\d+\\.?\\d*',frase_1)]\n",
    "s2 = [s for s in re.findall(r'[^renal ][^por ][ ^a-z]*',frase_2)]\n",
    "s3 = [s for s in re.findall(r'\\d{2}/\\d{2}/\\d{4}',frase_3)]\n",
    "s4 = [s for s in re.findall(r'-?\\d+\\%*',frase_4)]\n",
    "s5 = [s for s in re.findall(r'[a-z][ ^a-z]*',frase_5)]\n",
    "\n",
    "\n",
    "print(s1)\n",
    "print(s2)\n",
    "print(s3)\n",
    "print(s4)\n",
    "print(s5)"
   ]
  },
  {
   "cell_type": "code",
   "execution_count": 7,
   "id": "c1f698c3",
   "metadata": {},
   "outputs": [
    {
     "name": "stdout",
     "output_type": "stream",
     "text": [
      "                                         Variable           Valor\n",
      "0                   Tasa de filtración glomerular            34.0\n",
      "1                             Insuficiencia renal         ckd epi\n",
      "2  Fecha de identificación de insuficiencia renal      26/07/2019\n",
      "3                           Riesgo cardiovascular             15%\n",
      "4                               Método de cálculo  por framingham\n"
     ]
    }
   ],
   "source": [
    "data = {\n",
    "    \"Tasa de filtración glomerular\": s1[0],\n",
    "    \"Insuficiencia renal\": s2[0],\n",
    "    \"Fecha de identificación de insuficiencia renal\":s3[0],\n",
    "    \"Riesgo cardiovascular\": s4[0], \n",
    "    \"Método de cálculo\":s5[1]\n",
    "}\n",
    "\n",
    "df= pd.DataFrame(list(data.items()),\n",
    "                  columns = ['Variable','Valor'])\n",
    "print(df)\n",
    "\n",
    "df.to_excel('df.xlsx')"
   ]
  }
 ],
 "metadata": {
  "kernelspec": {
   "display_name": "Python 3 (ipykernel)",
   "language": "python",
   "name": "python3"
  },
  "language_info": {
   "codemirror_mode": {
    "name": "ipython",
    "version": 3
   },
   "file_extension": ".py",
   "mimetype": "text/x-python",
   "name": "python",
   "nbconvert_exporter": "python",
   "pygments_lexer": "ipython3",
   "version": "3.9.7"
  }
 },
 "nbformat": 4,
 "nbformat_minor": 5
}
